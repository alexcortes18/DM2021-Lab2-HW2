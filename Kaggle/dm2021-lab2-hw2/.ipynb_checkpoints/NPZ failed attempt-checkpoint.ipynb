{
 "cells": [
  {
   "cell_type": "markdown",
   "id": "e5242ce8",
   "metadata": {},
   "source": [
    "## Saving to NPZ to use Tensorflow:"
   ]
  },
  {
   "cell_type": "markdown",
   "id": "95fc86e8",
   "metadata": {},
   "source": [
    "#### Couldn't make it work ont the TesorFlow Test ipynb. Will try with normal dataframe."
   ]
  },
  {
   "cell_type": "markdown",
   "id": "811545ff",
   "metadata": {},
   "source": [
    "#### This one is after the Keras Competition Preprocessing Notebook. It was deleted from there."
   ]
  },
  {
   "cell_type": "code",
   "execution_count": null,
   "id": "770e9293",
   "metadata": {},
   "outputs": [],
   "source": [
    "import numpy as np\n",
    "import tensorflow as tf"
   ]
  },
  {
   "cell_type": "code",
   "execution_count": null,
   "id": "940692db",
   "metadata": {},
   "outputs": [],
   "source": [
    "#Before i used this for splitting the data but i need to transform the texts to numbers better:\n",
    "x_train = re_shuffled_inputs[:,2:3]\n",
    "y_train = re_shuffled_outputs"
   ]
  },
  {
   "cell_type": "code",
   "execution_count": null,
   "id": "4c1fd076",
   "metadata": {
    "scrolled": true
   },
   "outputs": [],
   "source": [
    "type(re_shuffled_outputs)"
   ]
  },
  {
   "cell_type": "code",
   "execution_count": null,
   "id": "7ac7a614",
   "metadata": {},
   "outputs": [],
   "source": [
    "y_train"
   ]
  },
  {
   "cell_type": "code",
   "execution_count": null,
   "id": "9518ffe8",
   "metadata": {},
   "outputs": [],
   "source": [
    "#Split data into training, validation, and test\n",
    "\n",
    "samples_count = x_train.shape[0]\n",
    "\n",
    "train_samples_count = int(0.7 * samples_count)\n",
    "validation_samples_count = int(0.2 * samples_count)\n",
    "test_samples_count = samples_count - train_samples_count - validation_samples_count\n",
    "\n",
    "train_inputs = x_train[:train_samples_count]\n",
    "train_targets = y_train[:train_samples_count]\n",
    "\n",
    "validation_inputs = x_train[train_samples_count:train_samples_count+validation_samples_count]\n",
    "validation_targets = y_train[train_samples_count:train_samples_count+validation_samples_count]\n",
    "\n",
    "test_inputs = x_train[train_samples_count+validation_samples_count:]\n",
    "test_targets = y_train[train_samples_count+validation_samples_count:]\n",
    "\n",
    "### Save the datasets in *.npz\n",
    "\n",
    "np.savez('twitter_data_train',inputs=train_inputs, targets = train_targets)\n",
    "np.savez('twitter_data_validation',inputs=validation_inputs, targets = validation_targets)\n",
    "np.savez('twitter_data_test',inputs=test_inputs, targets = test_targets)"
   ]
  },
  {
   "cell_type": "code",
   "execution_count": null,
   "id": "4c400e3c",
   "metadata": {},
   "outputs": [],
   "source": [
    "train_samples_count"
   ]
  },
  {
   "cell_type": "code",
   "execution_count": null,
   "id": "7c3773e6",
   "metadata": {},
   "outputs": [],
   "source": [
    "twitter_test.head()"
   ]
  },
  {
   "cell_type": "code",
   "execution_count": null,
   "id": "8c160711",
   "metadata": {},
   "outputs": [],
   "source": [
    "x_test = twitter_test[[\"tweet_id\",\"text\"]]"
   ]
  },
  {
   "cell_type": "code",
   "execution_count": null,
   "id": "824e0020",
   "metadata": {},
   "outputs": [],
   "source": [
    "np.savez('twitter_data_test_for_upload',inputs=x_test)"
   ]
  },
  {
   "cell_type": "markdown",
   "id": "a738ea66",
   "metadata": {},
   "source": [
    "## Second balancing try: with score in consideration"
   ]
  },
  {
   "cell_type": "markdown",
   "id": "5c426f0c",
   "metadata": {},
   "source": [
    "Here the purpose is to balance based on the lowest scores of each emotion."
   ]
  },
  {
   "cell_type": "code",
   "execution_count": null,
   "id": "16450a8b",
   "metadata": {},
   "outputs": [],
   "source": [
    "final_twitter_df"
   ]
  },
  {
   "cell_type": "code",
   "execution_count": null,
   "id": "76343336",
   "metadata": {},
   "outputs": [],
   "source": [
    "sorted_df = final_twitter_df.sort_values([\"emotion\",\"_score\"],ascending=False)"
   ]
  },
  {
   "cell_type": "code",
   "execution_count": null,
   "id": "315fe3af",
   "metadata": {},
   "outputs": [],
   "source": [
    "sorted_df\n",
    "#39712"
   ]
  },
  {
   "cell_type": "code",
   "execution_count": null,
   "id": "5728d3e2",
   "metadata": {},
   "outputs": [],
   "source": [
    "anger = sorted_df[sorted_df[\"emotion\"]==\"anger\"][:39712]\n",
    "anticipation = sorted_df[sorted_df[\"emotion\"]==\"anticipation\"][:39712]\n",
    "disgust = sorted_df[sorted_df[\"emotion\"]==\"disgust\"][:39712]\n",
    "fear = sorted_df[sorted_df[\"emotion\"]==\"fear\"][:39712]\n",
    "joy = sorted_df[sorted_df[\"emotion\"]==\"joy\"][:39712]\n",
    "sadness = sorted_df[sorted_df[\"emotion\"]==\"sadness\"][:39712]\n",
    "surprise = sorted_df[sorted_df[\"emotion\"]==\"surprise\"][:39712]\n",
    "trust = sorted_df[sorted_df[\"emotion\"]==\"trust\"][:39712]"
   ]
  },
  {
   "cell_type": "code",
   "execution_count": null,
   "id": "bc5e3c98",
   "metadata": {},
   "outputs": [],
   "source": [
    "pdList = [anger,anticipation,disgust,fear,joy,sadness,surprise,trust]\n",
    "final_sorted_df = pd.concat(pdList)"
   ]
  },
  {
   "cell_type": "code",
   "execution_count": null,
   "id": "a6a7539b",
   "metadata": {},
   "outputs": [],
   "source": [
    "final_sorted_df['Category'] = final_sorted_df.emotion.apply(lambda x: categorize_emotions(x))\n",
    "final_sorted_df.reset_index(inplace=True)\n",
    "final_sorted_df.drop([\"index\"],axis=1,inplace=True)"
   ]
  },
  {
   "cell_type": "code",
   "execution_count": null,
   "id": "83f40e9e",
   "metadata": {},
   "outputs": [],
   "source": [
    "final_sorted_df"
   ]
  },
  {
   "cell_type": "code",
   "execution_count": null,
   "id": "21e183fa",
   "metadata": {},
   "outputs": [],
   "source": [
    "unshuffle_inputs_outputs = final_sorted_df.iloc[:,:].to_numpy()"
   ]
  },
  {
   "cell_type": "code",
   "execution_count": null,
   "id": "d6b9f86c",
   "metadata": {},
   "outputs": [],
   "source": [
    "indices_shuffled = np.arange(unshuffle_inputs_outputs.shape[0])\n",
    "np.random.shuffle(indices_shuffled)\n",
    "\n",
    "shuffled_inputs_outputs = unshuffle_inputs_outputs[indices_shuffled]"
   ]
  },
  {
   "cell_type": "code",
   "execution_count": null,
   "id": "907924be",
   "metadata": {},
   "outputs": [],
   "source": [
    "len(unshuffle_inputs_outputs)"
   ]
  },
  {
   "cell_type": "code",
   "execution_count": null,
   "id": "2e9bbe7f",
   "metadata": {
    "scrolled": true
   },
   "outputs": [],
   "source": [
    "low_emotion_score_df = pd.DataFrame(shuffled_inputs_outputs)\n",
    "low_emotion_score_df.columns = ['_score', 'tweet_id', 'text', 'identification', 'emotion','Category']\n",
    "low_emotion_score_df"
   ]
  },
  {
   "cell_type": "code",
   "execution_count": null,
   "id": "882772d3",
   "metadata": {},
   "outputs": [],
   "source": [
    "low_emotion_score_df.text = low_emotion_score_df.text.apply(clean)\n",
    "low_emotion_score_df.iloc[0].text"
   ]
  },
  {
   "cell_type": "code",
   "execution_count": null,
   "id": "609ace16",
   "metadata": {},
   "outputs": [],
   "source": [
    "low_emotion_score_df[low_emotion_score_df.text == \"\"]"
   ]
  },
  {
   "cell_type": "code",
   "execution_count": null,
   "id": "1e1d55b6",
   "metadata": {},
   "outputs": [],
   "source": [
    "i = low_emotion_score_df[low_emotion_score_df.text == \"\"].index\n",
    "low_emotion_score_df.drop(i, axis = 0, inplace = True)"
   ]
  },
  {
   "cell_type": "code",
   "execution_count": null,
   "id": "fbdd2c28",
   "metadata": {
    "scrolled": true
   },
   "outputs": [],
   "source": [
    "low_emotion_score_df = low_emotion_score_df.reset_index()\n",
    "low_emotion_score_df.drop(['index'],axis = 1, inplace = True)"
   ]
  },
  {
   "cell_type": "code",
   "execution_count": null,
   "id": "ef94d45e",
   "metadata": {},
   "outputs": [],
   "source": [
    "low_emotion_score_df"
   ]
  },
  {
   "cell_type": "code",
   "execution_count": null,
   "id": "cc35fbfe",
   "metadata": {},
   "outputs": [],
   "source": [
    "low_emotion_score_df.to_csv(\"sorted_descending_preprocessed_data.csv\",index=False) #this one has the lowest scores for each emotion"
   ]
  },
  {
   "cell_type": "code",
   "execution_count": null,
   "id": "43f16964",
   "metadata": {},
   "outputs": [],
   "source": []
  }
 ],
 "metadata": {
  "kernelspec": {
   "display_name": "Python 3",
   "language": "python",
   "name": "python3"
  },
  "language_info": {
   "codemirror_mode": {
    "name": "ipython",
    "version": 3
   },
   "file_extension": ".py",
   "mimetype": "text/x-python",
   "name": "python",
   "nbconvert_exporter": "python",
   "pygments_lexer": "ipython3",
   "version": "3.8.8"
  }
 },
 "nbformat": 4,
 "nbformat_minor": 5
}
